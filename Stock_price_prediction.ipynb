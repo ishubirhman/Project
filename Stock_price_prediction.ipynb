{
 "cells": [
  {
   "cell_type": "markdown",
   "id": "6f88ef76-91dc-4b4c-b2ed-54596af423a9",
   "metadata": {},
   "source": [
    "# **Stock Price Prediction**"
   ]
  },
  {
   "cell_type": "markdown",
   "id": "879f57f2-4804-442b-a426-23e2ef307d43",
   "metadata": {},
   "source": [
    "**Importing Libraries**"
   ]
  },
  {
   "cell_type": "code",
   "execution_count": 70,
   "id": "5cb86657-e9f4-48a2-8036-3dfa660bb0b6",
   "metadata": {},
   "outputs": [],
   "source": [
    "import os\n",
    "import numpy as np\n",
    "import pandas as pd\n",
    "import matplotlib.pyplot as plt\n",
    "%matplotlib inline\n",
    "\n",
    "from sklearn.preprocessing import MinMaxScaler\n",
    "\n",
    "from keras.models import Sequential\n",
    "from keras.layers import LSTM\n",
    "from keras.layers import Dense\n",
    "from keras.layers import Dropout"
   ]
  },
  {
   "cell_type": "markdown",
   "id": "48442de9-32c8-4029-9ef7-0c4343da6e53",
   "metadata": {},
   "source": [
    "**Loading Trainig Dataset**"
   ]
  },
  {
   "cell_type": "code",
   "execution_count": 71,
   "id": "85e8a69b-35e0-428b-8c3f-f145137c56e0",
   "metadata": {},
   "outputs": [
    {
     "data": {
      "text/html": [
       "<div>\n",
       "<style scoped>\n",
       "    .dataframe tbody tr th:only-of-type {\n",
       "        vertical-align: middle;\n",
       "    }\n",
       "\n",
       "    .dataframe tbody tr th {\n",
       "        vertical-align: top;\n",
       "    }\n",
       "\n",
       "    .dataframe thead th {\n",
       "        text-align: right;\n",
       "    }\n",
       "</style>\n",
       "<table border=\"1\" class=\"dataframe\">\n",
       "  <thead>\n",
       "    <tr style=\"text-align: right;\">\n",
       "      <th></th>\n",
       "      <th>Date</th>\n",
       "      <th>Open</th>\n",
       "      <th>High</th>\n",
       "      <th>Low</th>\n",
       "      <th>Close</th>\n",
       "      <th>Adj Close</th>\n",
       "      <th>Volume</th>\n",
       "    </tr>\n",
       "  </thead>\n",
       "  <tbody>\n",
       "    <tr>\n",
       "      <th>0</th>\n",
       "      <td>2018-02-05</td>\n",
       "      <td>262.000000</td>\n",
       "      <td>267.899994</td>\n",
       "      <td>250.029999</td>\n",
       "      <td>254.259995</td>\n",
       "      <td>254.259995</td>\n",
       "      <td>11896100</td>\n",
       "    </tr>\n",
       "    <tr>\n",
       "      <th>1</th>\n",
       "      <td>2018-02-06</td>\n",
       "      <td>247.699997</td>\n",
       "      <td>266.700012</td>\n",
       "      <td>245.000000</td>\n",
       "      <td>265.720001</td>\n",
       "      <td>265.720001</td>\n",
       "      <td>12595800</td>\n",
       "    </tr>\n",
       "    <tr>\n",
       "      <th>2</th>\n",
       "      <td>2018-02-07</td>\n",
       "      <td>266.579987</td>\n",
       "      <td>272.450012</td>\n",
       "      <td>264.329987</td>\n",
       "      <td>264.559998</td>\n",
       "      <td>264.559998</td>\n",
       "      <td>8981500</td>\n",
       "    </tr>\n",
       "    <tr>\n",
       "      <th>3</th>\n",
       "      <td>2018-02-08</td>\n",
       "      <td>267.079987</td>\n",
       "      <td>267.619995</td>\n",
       "      <td>250.000000</td>\n",
       "      <td>250.100006</td>\n",
       "      <td>250.100006</td>\n",
       "      <td>9306700</td>\n",
       "    </tr>\n",
       "    <tr>\n",
       "      <th>4</th>\n",
       "      <td>2018-02-09</td>\n",
       "      <td>253.850006</td>\n",
       "      <td>255.800003</td>\n",
       "      <td>236.110001</td>\n",
       "      <td>249.470001</td>\n",
       "      <td>249.470001</td>\n",
       "      <td>16906900</td>\n",
       "    </tr>\n",
       "  </tbody>\n",
       "</table>\n",
       "</div>"
      ],
      "text/plain": [
       "         Date        Open        High         Low       Close   Adj Close  \\\n",
       "0  2018-02-05  262.000000  267.899994  250.029999  254.259995  254.259995   \n",
       "1  2018-02-06  247.699997  266.700012  245.000000  265.720001  265.720001   \n",
       "2  2018-02-07  266.579987  272.450012  264.329987  264.559998  264.559998   \n",
       "3  2018-02-08  267.079987  267.619995  250.000000  250.100006  250.100006   \n",
       "4  2018-02-09  253.850006  255.800003  236.110001  249.470001  249.470001   \n",
       "\n",
       "     Volume  \n",
       "0  11896100  \n",
       "1  12595800  \n",
       "2   8981500  \n",
       "3   9306700  \n",
       "4  16906900  "
      ]
     },
     "execution_count": 71,
     "metadata": {},
     "output_type": "execute_result"
    }
   ],
   "source": [
    "dataset = pd.read_csv('Downloads/Minor Project Data set (Stock Price Prediction).csv')\n",
    "dataset.head()"
   ]
  },
  {
   "cell_type": "code",
   "execution_count": 72,
   "id": "a2cd9979-59c1-4493-a708-6118c2a82925",
   "metadata": {},
   "outputs": [
    {
     "name": "stdout",
     "output_type": "stream",
     "text": [
      "<class 'pandas.core.frame.DataFrame'>\n",
      "RangeIndex: 1009 entries, 0 to 1008\n",
      "Data columns (total 7 columns):\n",
      " #   Column     Non-Null Count  Dtype  \n",
      "---  ------     --------------  -----  \n",
      " 0   Date       1009 non-null   object \n",
      " 1   Open       1009 non-null   float64\n",
      " 2   High       1009 non-null   float64\n",
      " 3   Low        1009 non-null   float64\n",
      " 4   Close      1009 non-null   float64\n",
      " 5   Adj Close  1009 non-null   float64\n",
      " 6   Volume     1009 non-null   int64  \n",
      "dtypes: float64(5), int64(1), object(1)\n",
      "memory usage: 55.3+ KB\n"
     ]
    }
   ],
   "source": [
    "dataset.info()"
   ]
  },
  {
   "cell_type": "markdown",
   "id": "a8efeb36-eb6b-4472-a72c-1c8a6060b029",
   "metadata": {},
   "source": [
    "**Training the model**"
   ]
  },
  {
   "cell_type": "code",
   "execution_count": 73,
   "id": "8034195c-70f0-453d-85ae-acf8313af8cf",
   "metadata": {},
   "outputs": [
    {
     "name": "stdout",
     "output_type": "stream",
     "text": [
      "[[262.      ]\n",
      " [247.699997]\n",
      " [266.579987]\n",
      " ...\n",
      " [448.25    ]\n",
      " [421.440002]\n",
      " [407.309998]]\n",
      "(1009, 1)\n"
     ]
    }
   ],
   "source": [
    "training_set = dataset.iloc[:,1:2].values\n",
    "\n",
    "print(training_set)\n",
    "print(training_set.shape)"
   ]
  },
  {
   "cell_type": "code",
   "execution_count": 74,
   "id": "36b2cb9d-0751-4387-9235-c545ce8654d3",
   "metadata": {},
   "outputs": [
    {
     "data": {
      "text/plain": [
       "array([[0.06125254],\n",
       "       [0.03005911],\n",
       "       [0.07124314],\n",
       "       ...,\n",
       "       [0.46753051],\n",
       "       [0.4090483 ],\n",
       "       [0.3782257 ]])"
      ]
     },
     "execution_count": 74,
     "metadata": {},
     "output_type": "execute_result"
    }
   ],
   "source": [
    "scaler = MinMaxScaler(feature_range = (0,1))\n",
    "scaled_training_set = scaler.fit_transform(training_set)\n",
    "\n",
    "scaled_training_set"
   ]
  },
  {
   "cell_type": "code",
   "execution_count": 75,
   "id": "99cf7be6-0b5f-404f-bdab-19167e0d34ef",
   "metadata": {},
   "outputs": [],
   "source": [
    "x_train = []\n",
    "y_train = []\n",
    "for i in range(100,1009):\n",
    "    x_train.append(scaled_training_set[i-100:i,0])\n",
    "    y_train.append(scaled_training_set[i,0])\n",
    "x_train = np.array(x_train)\n",
    "y_train = np.array(y_train)"
   ]
  },
  {
   "cell_type": "code",
   "execution_count": 76,
   "id": "8aad5068-d2fe-4346-9808-be4e2fe85e1f",
   "metadata": {},
   "outputs": [
    {
     "name": "stdout",
     "output_type": "stream",
     "text": [
      "(909, 100)\n",
      "(909,)\n"
     ]
    }
   ],
   "source": [
    "print(x_train.shape)\n",
    "print(y_train.shape)"
   ]
  },
  {
   "cell_type": "code",
   "execution_count": 77,
   "id": "b25a2239-e1b6-4b47-8b17-99dbe1991e67",
   "metadata": {},
   "outputs": [
    {
     "data": {
      "text/plain": [
       "(909, 100, 1)"
      ]
     },
     "execution_count": 77,
     "metadata": {},
     "output_type": "execute_result"
    }
   ],
   "source": [
    "x_train = np.reshape(x_train,(x_train.shape[0], x_train.shape[1],1))\n",
    "x_train.shape"
   ]
  },
  {
   "cell_type": "code",
   "execution_count": 78,
   "id": "39881218-a29f-4aed-b5a4-296e967d3019",
   "metadata": {},
   "outputs": [],
   "source": [
    "regressor = Sequential()\n",
    "\n",
    "regressor.add(LSTM(units = 50, return_sequences = True, input_shape = (x_train.shape[1],1)))\n",
    "regressor.add(Dropout(0.2))\n",
    "\n",
    "regressor.add(LSTM(units = 50, return_sequences = True))\n",
    "regressor.add(Dropout(0.2))\n",
    "\n",
    "regressor.add(LSTM(units = 50, return_sequences = True))\n",
    "regressor.add(Dropout(0.2))\n",
    "\n",
    "regressor.add(LSTM(units = 50))\n",
    "regressor.add(Dropout(0.2))\n",
    "\n",
    "regressor.add(Dense(units = 1))"
   ]
  },
  {
   "cell_type": "markdown",
   "id": "99b29e68-1d92-483d-b648-2c53f4f323ba",
   "metadata": {},
   "source": [
    "**Fitting the model**"
   ]
  },
  {
   "cell_type": "code",
   "execution_count": 79,
   "id": "6ac4af70-8f7a-4dcc-96ac-1caa62c4ea03",
   "metadata": {},
   "outputs": [
    {
     "name": "stdout",
     "output_type": "stream",
     "text": [
      "Epoch 1/100\n",
      "29/29 [==============================] - 14s 167ms/step - loss: 0.0402\n",
      "Epoch 2/100\n",
      "29/29 [==============================] - 5s 167ms/step - loss: 0.0099\n",
      "Epoch 3/100\n",
      "29/29 [==============================] - 5s 158ms/step - loss: 0.0083\n",
      "Epoch 4/100\n",
      "29/29 [==============================] - 5s 171ms/step - loss: 0.0076\n",
      "Epoch 5/100\n",
      "29/29 [==============================] - 6s 204ms/step - loss: 0.0066\n",
      "Epoch 6/100\n",
      "29/29 [==============================] - 5s 176ms/step - loss: 0.0069\n",
      "Epoch 7/100\n",
      "29/29 [==============================] - 5s 174ms/step - loss: 0.0063\n",
      "Epoch 8/100\n",
      "29/29 [==============================] - 5s 175ms/step - loss: 0.0065\n",
      "Epoch 9/100\n",
      "29/29 [==============================] - 5s 175ms/step - loss: 0.0068\n",
      "Epoch 10/100\n",
      "29/29 [==============================] - 5s 174ms/step - loss: 0.0057\n",
      "Epoch 11/100\n",
      "29/29 [==============================] - 5s 170ms/step - loss: 0.0058\n",
      "Epoch 12/100\n",
      "29/29 [==============================] - 5s 172ms/step - loss: 0.0057\n",
      "Epoch 13/100\n",
      "29/29 [==============================] - 5s 174ms/step - loss: 0.0061\n",
      "Epoch 14/100\n",
      "29/29 [==============================] - 5s 173ms/step - loss: 0.0056\n",
      "Epoch 15/100\n",
      "29/29 [==============================] - 5s 174ms/step - loss: 0.0050\n",
      "Epoch 16/100\n",
      "29/29 [==============================] - 5s 189ms/step - loss: 0.0049\n",
      "Epoch 17/100\n",
      "29/29 [==============================] - 5s 169ms/step - loss: 0.0054\n",
      "Epoch 18/100\n",
      "29/29 [==============================] - 5s 169ms/step - loss: 0.0049\n",
      "Epoch 19/100\n",
      "29/29 [==============================] - 5s 171ms/step - loss: 0.0047\n",
      "Epoch 20/100\n",
      "29/29 [==============================] - 5s 170ms/step - loss: 0.0046\n",
      "Epoch 21/100\n",
      "29/29 [==============================] - 5s 170ms/step - loss: 0.0046\n",
      "Epoch 22/100\n",
      "29/29 [==============================] - 5s 174ms/step - loss: 0.0048\n",
      "Epoch 23/100\n",
      "29/29 [==============================] - 5s 168ms/step - loss: 0.0041\n",
      "Epoch 24/100\n",
      "29/29 [==============================] - 5s 169ms/step - loss: 0.0044\n",
      "Epoch 25/100\n",
      "29/29 [==============================] - 5s 170ms/step - loss: 0.0047\n",
      "Epoch 26/100\n",
      "29/29 [==============================] - 5s 172ms/step - loss: 0.0045\n",
      "Epoch 27/100\n",
      "29/29 [==============================] - 5s 169ms/step - loss: 0.0043\n",
      "Epoch 28/100\n",
      "29/29 [==============================] - 5s 157ms/step - loss: 0.0038\n",
      "Epoch 29/100\n",
      "29/29 [==============================] - 6s 220ms/step - loss: 0.0038\n",
      "Epoch 30/100\n",
      "29/29 [==============================] - 7s 256ms/step - loss: 0.0038\n",
      "Epoch 31/100\n",
      "29/29 [==============================] - 6s 214ms/step - loss: 0.0049\n",
      "Epoch 32/100\n",
      "29/29 [==============================] - 7s 232ms/step - loss: 0.0049\n",
      "Epoch 33/100\n",
      "29/29 [==============================] - 9s 303ms/step - loss: 0.0040\n",
      "Epoch 34/100\n",
      "29/29 [==============================] - 7s 243ms/step - loss: 0.0039\n",
      "Epoch 35/100\n",
      "29/29 [==============================] - 7s 248ms/step - loss: 0.0036\n",
      "Epoch 36/100\n",
      "29/29 [==============================] - 7s 246ms/step - loss: 0.0039\n",
      "Epoch 37/100\n",
      "29/29 [==============================] - 7s 255ms/step - loss: 0.0039\n",
      "Epoch 38/100\n",
      "29/29 [==============================] - 9s 298ms/step - loss: 0.0036\n",
      "Epoch 39/100\n",
      "29/29 [==============================] - 8s 280ms/step - loss: 0.0035\n",
      "Epoch 40/100\n",
      "29/29 [==============================] - 7s 245ms/step - loss: 0.0036\n",
      "Epoch 41/100\n",
      "29/29 [==============================] - 8s 277ms/step - loss: 0.0033\n",
      "Epoch 42/100\n",
      "29/29 [==============================] - 8s 286ms/step - loss: 0.0032\n",
      "Epoch 43/100\n",
      "29/29 [==============================] - 7s 247ms/step - loss: 0.0030\n",
      "Epoch 44/100\n",
      "29/29 [==============================] - 6s 223ms/step - loss: 0.0033\n",
      "Epoch 45/100\n",
      "29/29 [==============================] - 6s 213ms/step - loss: 0.0033\n",
      "Epoch 46/100\n",
      "29/29 [==============================] - 7s 257ms/step - loss: 0.0036\n",
      "Epoch 47/100\n",
      "29/29 [==============================] - 8s 264ms/step - loss: 0.0030\n",
      "Epoch 48/100\n",
      "29/29 [==============================] - 6s 212ms/step - loss: 0.0032\n",
      "Epoch 49/100\n",
      "29/29 [==============================] - 9s 295ms/step - loss: 0.0030\n",
      "Epoch 50/100\n",
      "29/29 [==============================] - 8s 277ms/step - loss: 0.0028\n",
      "Epoch 51/100\n",
      "29/29 [==============================] - 7s 252ms/step - loss: 0.0028\n",
      "Epoch 52/100\n",
      "29/29 [==============================] - 6s 199ms/step - loss: 0.0033\n",
      "Epoch 53/100\n",
      "29/29 [==============================] - 6s 219ms/step - loss: 0.0026\n",
      "Epoch 54/100\n",
      "29/29 [==============================] - 8s 273ms/step - loss: 0.0028\n",
      "Epoch 55/100\n",
      "29/29 [==============================] - 8s 269ms/step - loss: 0.0032\n",
      "Epoch 56/100\n",
      "29/29 [==============================] - 8s 286ms/step - loss: 0.0027\n",
      "Epoch 57/100\n",
      "29/29 [==============================] - 5s 185ms/step - loss: 0.0027\n",
      "Epoch 58/100\n",
      "29/29 [==============================] - 6s 214ms/step - loss: 0.0029\n",
      "Epoch 59/100\n",
      "29/29 [==============================] - 5s 172ms/step - loss: 0.0032\n",
      "Epoch 60/100\n",
      "29/29 [==============================] - 6s 203ms/step - loss: 0.0025\n",
      "Epoch 61/100\n",
      "29/29 [==============================] - 9s 310ms/step - loss: 0.0027\n",
      "Epoch 62/100\n",
      "29/29 [==============================] - 9s 302ms/step - loss: 0.0025\n",
      "Epoch 63/100\n",
      "29/29 [==============================] - 7s 255ms/step - loss: 0.0029\n",
      "Epoch 64/100\n",
      "29/29 [==============================] - 7s 250ms/step - loss: 0.0025\n",
      "Epoch 65/100\n",
      "29/29 [==============================] - 5s 176ms/step - loss: 0.0023\n",
      "Epoch 66/100\n",
      "29/29 [==============================] - 5s 161ms/step - loss: 0.0024\n",
      "Epoch 67/100\n",
      "29/29 [==============================] - 5s 163ms/step - loss: 0.0024\n",
      "Epoch 68/100\n",
      "29/29 [==============================] - 5s 167ms/step - loss: 0.0029\n",
      "Epoch 69/100\n",
      "29/29 [==============================] - 5s 164ms/step - loss: 0.0022\n",
      "Epoch 70/100\n",
      "29/29 [==============================] - 5s 170ms/step - loss: 0.0024\n",
      "Epoch 71/100\n",
      "29/29 [==============================] - 5s 172ms/step - loss: 0.0020\n",
      "Epoch 72/100\n",
      "29/29 [==============================] - 5s 174ms/step - loss: 0.0024\n",
      "Epoch 73/100\n",
      "29/29 [==============================] - 5s 169ms/step - loss: 0.0021\n",
      "Epoch 74/100\n",
      "29/29 [==============================] - 5s 160ms/step - loss: 0.0022\n",
      "Epoch 75/100\n",
      "29/29 [==============================] - 5s 166ms/step - loss: 0.0022\n",
      "Epoch 76/100\n",
      "29/29 [==============================] - 5s 168ms/step - loss: 0.0022\n",
      "Epoch 77/100\n",
      "29/29 [==============================] - 5s 174ms/step - loss: 0.0023\n",
      "Epoch 78/100\n",
      "29/29 [==============================] - 5s 166ms/step - loss: 0.0022\n",
      "Epoch 79/100\n",
      "29/29 [==============================] - 5s 170ms/step - loss: 0.0020\n",
      "Epoch 80/100\n",
      "29/29 [==============================] - 5s 172ms/step - loss: 0.0019\n",
      "Epoch 81/100\n",
      "29/29 [==============================] - 5s 167ms/step - loss: 0.0022\n",
      "Epoch 82/100\n",
      "29/29 [==============================] - 5s 168ms/step - loss: 0.0018\n",
      "Epoch 83/100\n",
      "29/29 [==============================] - 5s 158ms/step - loss: 0.0018\n",
      "Epoch 84/100\n",
      "29/29 [==============================] - 5s 164ms/step - loss: 0.0018\n",
      "Epoch 85/100\n",
      "29/29 [==============================] - 5s 172ms/step - loss: 0.0019\n",
      "Epoch 86/100\n",
      "29/29 [==============================] - 5s 176ms/step - loss: 0.0018\n",
      "Epoch 87/100\n",
      "29/29 [==============================] - 5s 172ms/step - loss: 0.0018\n",
      "Epoch 88/100\n",
      "29/29 [==============================] - 5s 168ms/step - loss: 0.0018\n",
      "Epoch 89/100\n",
      "29/29 [==============================] - 5s 173ms/step - loss: 0.0017\n",
      "Epoch 90/100\n",
      "29/29 [==============================] - 5s 167ms/step - loss: 0.0017\n",
      "Epoch 91/100\n",
      "29/29 [==============================] - 5s 170ms/step - loss: 0.0020\n",
      "Epoch 92/100\n",
      "29/29 [==============================] - 5s 165ms/step - loss: 0.0020\n",
      "Epoch 93/100\n",
      "29/29 [==============================] - 5s 161ms/step - loss: 0.0021\n",
      "Epoch 94/100\n",
      "29/29 [==============================] - 5s 165ms/step - loss: 0.0018\n",
      "Epoch 95/100\n",
      "29/29 [==============================] - 5s 161ms/step - loss: 0.0020\n",
      "Epoch 96/100\n",
      "29/29 [==============================] - 5s 162ms/step - loss: 0.0018\n",
      "Epoch 97/100\n",
      "29/29 [==============================] - 5s 169ms/step - loss: 0.0018\n",
      "Epoch 98/100\n",
      "29/29 [==============================] - 5s 157ms/step - loss: 0.0019\n",
      "Epoch 99/100\n",
      "29/29 [==============================] - 5s 161ms/step - loss: 0.0018\n",
      "Epoch 100/100\n",
      "29/29 [==============================] - 5s 157ms/step - loss: 0.0018\n"
     ]
    }
   ],
   "source": [
    "regressor.compile(optimizer = 'adam', loss = 'mean_squared_error')\n",
    "hist = regressor.fit(x_train, y_train, epochs = 100, batch_size = 32)"
   ]
  },
  {
   "cell_type": "markdown",
   "id": "a9d0e51d-e4de-470d-988a-b0022b79d010",
   "metadata": {},
   "source": [
    "**Loss during epoch**"
   ]
  },
  {
   "cell_type": "code",
   "execution_count": 81,
   "id": "839246cc-7f62-4f3d-97e5-7444bb1688fe",
   "metadata": {},
   "outputs": [
    {
     "data": {
      "image/png": "[encoded data removed]",
      "text/plain": [
       "<Figure size 640x480 with 1 Axes>"
      ]
     },
     "metadata": {},
     "output_type": "display_data"
    }
   ],
   "source": [
    "plt.plot(hist.history['loss'])\n",
    "plt.title('Training model loss')\n",
    "plt.xlabel('epoch')\n",
    "plt.ylabel('loss')\n",
    "plt.legend(['train'],loc = 'upper left')\n",
    "plt.show()"
   ]
  },
  {
   "cell_type": "code",
   "execution_count": 99,
   "id": "f87454fc-3e92-4e28-965c-2a1529e799ae",
   "metadata": {},
   "outputs": [],
   "source": [
    "dataset_test = pd.read_csv('Downloads/Minor Project Data set (Stock Price Prediction).csv')\n",
    "actual_stock_price = dataset_test.iloc[:100,1:2].values"
   ]
  },
  {
   "cell_type": "code",
   "execution_count": 100,
   "id": "5bcb31a9-0e32-49a0-ba7b-2c999a01ce56",
   "metadata": {},
   "outputs": [],
   "source": [
    "dataset_total = pd.concat((dataset['Open'], dataset_test['Open']),axis = 0)\n",
    "inputs = dataset_total[len(dataset_total)-len(dataset_test)-100:].values\n",
    "\n",
    "inputs = inputs.reshape(-1,1)\n",
    "inputs = scaler.transform(inputs)\n",
    "\n",
    "x_test = []\n",
    "for i in range(100,200):\n",
    "    x_test.append(inputs[i-100:i, 0])\n",
    "x_test = np.array(x_test)\n",
    "x_test = np.reshape(x_test,(x_test.shape[0], x_test.shape[1],1))"
   ]
  },
  {
   "cell_type": "code",
   "execution_count": 101,
   "id": "d4af7b94-d42e-4595-8b2b-b8a838cc824e",
   "metadata": {},
   "outputs": [
    {
     "name": "stdout",
     "output_type": "stream",
     "text": [
      "4/4 [==============================] - 0s 58ms/step\n"
     ]
    }
   ],
   "source": [
    "predicted_stock_price = regressor.predict(x_test)\n",
    "predicted_stock_price = scaler.inverse_transform(predicted_stock_price)"
   ]
  },
  {
   "cell_type": "markdown",
   "id": "96ed2c9b-288d-4fe0-b921-018fd6368ec9",
   "metadata": {},
   "source": [
    "**Plotting the graph**"
   ]
  },
  {
   "cell_type": "code",
   "execution_count": 102,
   "id": "a323eefc-0f2a-4627-af3b-6ee16d23348b",
   "metadata": {},
   "outputs": [
    {
     "data": {
      "text/plain": [
       "<matplotlib.legend.Legend at 0x200ea2e4c90>"
      ]
     },
     "execution_count": 102,
     "metadata": {},
     "output_type": "execute_result"
    },
    {
     "data": {
      "image/png": "[encoded data removed]",
      "text/plain": [
       "<Figure size 640x480 with 1 Axes>"
      ]
     },
     "metadata": {},
     "output_type": "display_data"
    }
   ],
   "source": [
    "plt.plot(actual_stock_price, color = 'red', label = 'Actual Stock Price')\n",
    "plt.plot(predicted_stock_price, color = 'blue', label = 'Predicted Stock Price')\n",
    "plt.title('Stock Price Prediction')\n",
    "plt.xlabel('Time')\n",
    "plt.ylabel('Stock Price')\n",
    "plt.legend()"
   ]
  },
  {
   "cell_type": "code",
   "execution_count": null,
   "id": "ca41b71d-e031-418c-bef0-33bf17be210f",
   "metadata": {},
   "outputs": [],
   "source": []
  }
 ],
 "metadata": {
  "kernelspec": {
   "display_name": "Python 3 (ipykernel)",
   "language": "python",
   "name": "python3"
  },
  "language_info": {
   "codemirror_mode": {
    "name": "ipython",
    "version": 3
   },
   "file_extension": ".py",
   "mimetype": "text/x-python",
   "name": "python",
   "nbconvert_exporter": "python",
   "pygments_lexer": "ipython3",
   "version": "3.11.5"
  }
 },
 "nbformat": 4,
 "nbformat_minor": 5
}
